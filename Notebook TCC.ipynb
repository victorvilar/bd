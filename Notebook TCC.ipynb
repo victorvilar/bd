{
 "cells": [
  {
   "cell_type": "code",
   "execution_count": 31,
   "metadata": {
    "collapsed": false
   },
   "outputs": [
    {
     "ename": "SyntaxError",
     "evalue": "invalid syntax (<ipython-input-31-b4f5aaf07ede>, line 7)",
     "output_type": "error",
     "traceback": [
      "\u001b[0;36m  File \u001b[0;32m\"<ipython-input-31-b4f5aaf07ede>\"\u001b[0;36m, line \u001b[0;32m7\u001b[0m\n\u001b[0;31m    datetime.datetime.strptime(main.'Service.Start.Date', '%Y-%m-%d').strftime('%d/%m/%y)\u001b[0m\n\u001b[0m                                                       ^\u001b[0m\n\u001b[0;31mSyntaxError\u001b[0m\u001b[0;31m:\u001b[0m invalid syntax\n"
     ]
    }
   ],
   "source": [
    "%matplotlib inline\n",
    "import pandas as pd\n",
    "import matplotlib.pyplot as plt\n",
    "from bokeh.io import output_notebook\n",
    "import numpy as np\n",
    "from bokeh.plotting import figure"
   ]
  },
  {
   "cell_type": "code",
   "execution_count": 3,
   "metadata": {
    "collapsed": false
   },
   "outputs": [
    {
     "name": "stderr",
     "output_type": "stream",
     "text": [
      "d:\\Anaconda3\\lib\\site-packages\\IPython\\core\\interactiveshell.py:2717: DtypeWarning: Columns (4,36) have mixed types. Specify dtype option on import or set low_memory=False.\n",
      "  interactivity=interactivity, compiler=compiler, result=result)\n"
     ]
    }
   ],
   "source": [
    "#Reading dataset\n",
    "df = pd.read_csv('fev17.csv')"
   ]
  },
  {
   "cell_type": "code",
   "execution_count": 4,
   "metadata": {
    "collapsed": true
   },
   "outputs": [],
   "source": [
    "#Identifying all columns\n",
    "df.columns =['id', 'Tipo do produto', 'Finalidade', 'Origem', 'Destino', 'Data serviço', 'Dia', 'Hora serviço', 'Localidade destino', 'UF destino', 'CSP', 'Grupo horário', 'Categoria', 'Serviço da fatura', 'Serviço configurado', 'Chamada', 'Particular', 'Código UE', 'Nome UE', 'Quantidade', 'Qtde tarifada', 'Unidade', 'Valor fatura', 'Dia vencimento', 'Indicador comparação ok', 'Valor retarifado', 'Matricula', 'Fatura', 'Funcionário', 'Prestadora', 'Evento tarifário', 'Item glosado', 'Percentual de ICMS', 'Valor líquido calculado', 'Nota fiscal', 'CNPJ cliente', 'Motivo produto não cadastrado', 'Tipo de serviço', 'Coletor', 'Rota de entrada', 'Rota de saída', 'Número do contrato', 'Localidade de origem', 'UF de origem', 'Mês', 'Ano']"
   ]
  },
  {
   "cell_type": "code",
   "execution_count": 5,
   "metadata": {
    "collapsed": false
   },
   "outputs": [
    {
     "data": {
      "text/html": [
       "<div>\n",
       "<table border=\"1\" class=\"dataframe\">\n",
       "  <thead>\n",
       "    <tr style=\"text-align: right;\">\n",
       "      <th></th>\n",
       "      <th>id</th>\n",
       "      <th>Tipo do produto</th>\n",
       "      <th>Finalidade</th>\n",
       "      <th>Origem</th>\n",
       "      <th>Destino</th>\n",
       "      <th>Data serviço</th>\n",
       "      <th>Dia</th>\n",
       "      <th>Hora serviço</th>\n",
       "      <th>Localidade destino</th>\n",
       "      <th>UF destino</th>\n",
       "      <th>...</th>\n",
       "      <th>Motivo produto não cadastrado</th>\n",
       "      <th>Tipo de serviço</th>\n",
       "      <th>Coletor</th>\n",
       "      <th>Rota de entrada</th>\n",
       "      <th>Rota de saída</th>\n",
       "      <th>Número do contrato</th>\n",
       "      <th>Localidade de origem</th>\n",
       "      <th>UF de origem</th>\n",
       "      <th>Mês</th>\n",
       "      <th>Ano</th>\n",
       "    </tr>\n",
       "  </thead>\n",
       "  <tbody>\n",
       "    <tr>\n",
       "      <th>0</th>\n",
       "      <td>490491</td>\n",
       "      <td>CELULAR</td>\n",
       "      <td>NaN</td>\n",
       "      <td>81999741361</td>\n",
       "      <td>81999940229</td>\n",
       "      <td>01/02/2017</td>\n",
       "      <td>QUA</td>\n",
       "      <td>16:23:25</td>\n",
       "      <td>PERNAMBUCO (81)</td>\n",
       "      <td>PE</td>\n",
       "      <td>...</td>\n",
       "      <td>NaN</td>\n",
       "      <td>CELULAR</td>\n",
       "      <td>NaN</td>\n",
       "      <td>NaN</td>\n",
       "      <td>NaN</td>\n",
       "      <td>NaN</td>\n",
       "      <td>----VERIFICAR NO DICIONAR</td>\n",
       "      <td>NaN</td>\n",
       "      <td>2</td>\n",
       "      <td>2017</td>\n",
       "    </tr>\n",
       "    <tr>\n",
       "      <th>1</th>\n",
       "      <td>490539</td>\n",
       "      <td>CELULAR</td>\n",
       "      <td>NaN</td>\n",
       "      <td>81999940048</td>\n",
       "      <td>81999940041</td>\n",
       "      <td>16/01/2017</td>\n",
       "      <td>SEG</td>\n",
       "      <td>09:59:30</td>\n",
       "      <td>PERNAMBUCO (81)</td>\n",
       "      <td>PE</td>\n",
       "      <td>...</td>\n",
       "      <td>NaN</td>\n",
       "      <td>CELULAR</td>\n",
       "      <td>NaN</td>\n",
       "      <td>NaN</td>\n",
       "      <td>NaN</td>\n",
       "      <td>NaN</td>\n",
       "      <td>----VERIFICAR NO DICIONAR</td>\n",
       "      <td>NaN</td>\n",
       "      <td>2</td>\n",
       "      <td>2017</td>\n",
       "    </tr>\n",
       "  </tbody>\n",
       "</table>\n",
       "<p>2 rows × 46 columns</p>\n",
       "</div>"
      ],
      "text/plain": [
       "       id Tipo do produto  Finalidade       Origem      Destino Data serviço  \\\n",
       "0  490491         CELULAR         NaN  81999741361  81999940229   01/02/2017   \n",
       "1  490539         CELULAR         NaN  81999940048  81999940041   16/01/2017   \n",
       "\n",
       "   Dia Hora serviço Localidade destino UF destino  ...   \\\n",
       "0  QUA     16:23:25    PERNAMBUCO (81)         PE  ...    \n",
       "1  SEG     09:59:30    PERNAMBUCO (81)         PE  ...    \n",
       "\n",
       "   Motivo produto não cadastrado  Tipo de serviço Coletor Rota de entrada  \\\n",
       "0                            NaN          CELULAR     NaN             NaN   \n",
       "1                            NaN          CELULAR     NaN             NaN   \n",
       "\n",
       "  Rota de saída Número do contrato       Localidade de origem UF de origem  \\\n",
       "0           NaN                NaN  ----VERIFICAR NO DICIONAR          NaN   \n",
       "1           NaN                NaN  ----VERIFICAR NO DICIONAR          NaN   \n",
       "\n",
       "  Mês   Ano  \n",
       "0   2  2017  \n",
       "1   2  2017  \n",
       "\n",
       "[2 rows x 46 columns]"
      ]
     },
     "execution_count": 5,
     "metadata": {},
     "output_type": "execute_result"
    }
   ],
   "source": [
    "#Checking the first two lines\n",
    "df.head(2)"
   ]
  },
  {
   "cell_type": "code",
   "execution_count": 6,
   "metadata": {
    "collapsed": false
   },
   "outputs": [],
   "source": [
    "#Replacing the decimal mark to '.' and thousand mark to empty\n",
    "df['Valor fatura'] = df['Valor fatura'].str.replace('.','')\n",
    "df['Valor fatura'] = df['Valor fatura'].str.replace(',','.')"
   ]
  },
  {
   "cell_type": "code",
   "execution_count": 7,
   "metadata": {
    "collapsed": false
   },
   "outputs": [
    {
     "data": {
      "text/plain": [
       "id                                 int64\n",
       "Tipo do produto                   object\n",
       "Finalidade                       float64\n",
       "Origem                             int64\n",
       "Destino                           object\n",
       "Data serviço                      object\n",
       "Dia                               object\n",
       "Hora serviço                      object\n",
       "Localidade destino                object\n",
       "UF destino                        object\n",
       "CSP                                int64\n",
       "Grupo horário                    float64\n",
       "Categoria                         object\n",
       "Serviço da fatura                 object\n",
       "Serviço configurado               object\n",
       "Chamada                           object\n",
       "Particular                        object\n",
       "Código UE                         object\n",
       "Nome UE                           object\n",
       "Quantidade                         int64\n",
       "Qtde tarifada                     object\n",
       "Unidade                           object\n",
       "Valor fatura                      object\n",
       "Dia vencimento                     int64\n",
       "Indicador comparação ok          float64\n",
       "Valor retarifado                  object\n",
       "Matricula                         object\n",
       "Fatura                            object\n",
       "Funcionário                       object\n",
       "Prestadora                        object\n",
       "Evento tarifário                  object\n",
       "Item glosado                     float64\n",
       "Percentual de ICMS                object\n",
       "Valor líquido calculado           object\n",
       "Nota fiscal                        int64\n",
       "CNPJ cliente                       int64\n",
       "Motivo produto não cadastrado     object\n",
       "Tipo de serviço                   object\n",
       "Coletor                          float64\n",
       "Rota de entrada                  float64\n",
       "Rota de saída                    float64\n",
       "Número do contrato               float64\n",
       "Localidade de origem              object\n",
       "UF de origem                     float64\n",
       "Mês                                int64\n",
       "Ano                                int64\n",
       "dtype: object"
      ]
     },
     "execution_count": 7,
     "metadata": {},
     "output_type": "execute_result"
    }
   ],
   "source": [
    "#Checking types\n",
    "df.dtypes"
   ]
  },
  {
   "cell_type": "code",
   "execution_count": 74,
   "metadata": {
    "collapsed": false
   },
   "outputs": [],
   "source": [
    "#Changing type of some attributes so I can work on it\n",
    "df.Origem = df.Origem.astype(object)\n",
    "df['Valor fatura'] = df['Valor fatura'].astype(float)\n",
    "df['Data serviço'] = pd.to_datetime(df['Data serviço'], format='%d/%m/%Y')\n",
    "df['Hora serviço'] = pd.to_datetime(df['Hora serviço'], format='%H:%M:%S')"
   ]
  },
  {
   "cell_type": "code",
   "execution_count": 92,
   "metadata": {
    "collapsed": false
   },
   "outputs": [
    {
     "data": {
      "text/plain": [
       "id                                        int64\n",
       "Tipo do produto                          object\n",
       "Finalidade                              float64\n",
       "Origem                                   object\n",
       "Destino                                  object\n",
       "Data serviço                     datetime64[ns]\n",
       "Dia                                      object\n",
       "Hora serviço                     datetime64[ns]\n",
       "Localidade destino                       object\n",
       "UF destino                               object\n",
       "CSP                                       int64\n",
       "Grupo horário                           float64\n",
       "Categoria                                object\n",
       "Serviço da fatura                        object\n",
       "Serviço configurado                      object\n",
       "Chamada                                  object\n",
       "Particular                               object\n",
       "Código UE                                object\n",
       "Nome UE                                  object\n",
       "Quantidade                                int64\n",
       "Qtde tarifada                            object\n",
       "Unidade                                  object\n",
       "Valor fatura                            float64\n",
       "Dia vencimento                            int64\n",
       "Indicador comparação ok                 float64\n",
       "Valor retarifado                         object\n",
       "Matricula                                object\n",
       "Fatura                                   object\n",
       "Funcionário                              object\n",
       "Prestadora                               object\n",
       "Evento tarifário                         object\n",
       "Item glosado                            float64\n",
       "Percentual de ICMS                       object\n",
       "Valor líquido calculado                  object\n",
       "Nota fiscal                               int64\n",
       "CNPJ cliente                              int64\n",
       "Motivo produto não cadastrado            object\n",
       "Tipo de serviço                          object\n",
       "Coletor                                 float64\n",
       "Rota de entrada                         float64\n",
       "Rota de saída                           float64\n",
       "Número do contrato                      float64\n",
       "Localidade de origem                     object\n",
       "UF de origem                            float64\n",
       "Mês                                       int64\n",
       "Ano                                       int64\n",
       "dtype: object"
      ]
     },
     "execution_count": 92,
     "metadata": {},
     "output_type": "execute_result"
    }
   ],
   "source": [
    "#Checking types once again\n",
    "df.dtypes"
   ]
  },
  {
   "cell_type": "code",
   "execution_count": 22,
   "metadata": {
    "collapsed": false
   },
   "outputs": [
    {
     "data": {
      "text/plain": [
       "Origem\n",
       "9999999999     9438.31\n",
       "81997285859     612.59\n",
       "81997285888     583.52\n",
       "81994023290     511.48\n",
       "81994034859     487.98\n",
       "81996011136     487.04\n",
       "81997573939     466.72\n",
       "81994097305     412.87\n",
       "81992859808     368.93\n",
       "81996789735     346.59\n",
       "81992851373     304.44\n",
       "81997900019     301.11\n",
       "81998229991     290.71\n",
       "81996959970     268.75\n",
       "81999281634     262.27\n",
       "81997289977     238.58\n",
       "81994144316     233.38\n",
       "81999045684     224.68\n",
       "81996074895     202.47\n",
       "81999540414     199.54\n",
       "81996959954     194.64\n",
       "81999366456     194.59\n",
       "81995660400     189.59\n",
       "81995180545     176.03\n",
       "81994168190     170.20\n",
       "81994195113     166.09\n",
       "81997285958     159.69\n",
       "81996949743     154.81\n",
       "81999274183     153.43\n",
       "81996158514     153.24\n",
       "                ...   \n",
       "81994073793       6.90\n",
       "81994046001       6.90\n",
       "81992632233       6.90\n",
       "81991625024       6.90\n",
       "81992137182       6.90\n",
       "81992302317       6.90\n",
       "81992320415       6.90\n",
       "81992388129       6.90\n",
       "81992446276       6.90\n",
       "81992623208       6.90\n",
       "81993049220       6.90\n",
       "81992668099       6.90\n",
       "81992680005       6.90\n",
       "81992698268       6.90\n",
       "81992719115       6.90\n",
       "81992842377       6.90\n",
       "81991237333       6.90\n",
       "81992876932       6.90\n",
       "81992966686       6.90\n",
       "81992996569       6.90\n",
       "81991826320       6.90\n",
       "81997340282       5.98\n",
       "87991574325       5.96\n",
       "81999465518       5.02\n",
       "81992838321       4.61\n",
       "81999264455       3.21\n",
       "81991662640       1.27\n",
       "81995230333       0.24\n",
       "81989741108       0.24\n",
       "81995397372       0.24\n",
       "Name: Valor fatura, dtype: float64"
      ]
     },
     "execution_count": 22,
     "metadata": {},
     "output_type": "execute_result"
    }
   ],
   "source": [
    "#Identifying Heavy Users\n",
    "valoresOrigem = df.pivot_table(index='Origem', values='Valor fatura', aggfunc=np.sum).sort_values(ascending=False)\n",
    "valoresOrigem"
   ]
  },
  {
   "cell_type": "code",
   "execution_count": 23,
   "metadata": {
    "collapsed": false
   },
   "outputs": [
    {
     "data": {
      "text/plain": [
       "Destino\n",
       "8132172623       386.05\n",
       "81996011136      335.33\n",
       "81992859808      335.12\n",
       "81996789735      308.89\n",
       "81992851373      303.56\n",
       "401              262.33\n",
       "81999281634      247.11\n",
       "81996959970      213.59\n",
       "7133707300       168.61\n",
       "81996011136      129.89\n",
       "11980485833      122.55\n",
       "8132172624       109.50\n",
       "81996031830      107.81\n",
       "8132172611       106.76\n",
       "71999875015       93.43\n",
       "81994084933       78.58\n",
       "81996158514       78.51\n",
       "81996159288       78.02\n",
       "81997900019       76.49\n",
       "81996017950       76.48\n",
       "81999045684       76.10\n",
       "81999940098       75.55\n",
       "81991696558       75.14\n",
       "81999942422       74.64\n",
       "81996050304       74.57\n",
       "81999281725       73.91\n",
       "81996156251       73.70\n",
       "81996445642       73.58\n",
       "81995180545       73.14\n",
       "81999960309       73.05\n",
       "                  ...  \n",
       "81991361220.0      0.00\n",
       "88981086174.0      0.00\n",
       "81991356801        0.00\n",
       "81991354921        0.00\n",
       "81991442007        0.00\n",
       "81991347617        0.00\n",
       "81991344525        0.00\n",
       "81991335774.0      0.00\n",
       "81999991537        0.00\n",
       "81991330373        0.00\n",
       "88996510199.0      0.00\n",
       "81991371204.0      0.00\n",
       "81991375841        0.00\n",
       "81991376788        0.00\n",
       "81991406892        0.00\n",
       "81991430532        0.00\n",
       "81991426252        0.00\n",
       "81991420779        0.00\n",
       "87999987798        0.00\n",
       "81992431037        0.00\n",
       "81991413762        0.00\n",
       "87999992206        0.00\n",
       "87999994672        0.00\n",
       "81991399422        0.00\n",
       "81991391512        0.00\n",
       "87999994204        0.00\n",
       "81991385385        0.00\n",
       "81991380540        0.00\n",
       "81991826017        0.00\n",
       "9999999999       -82.00\n",
       "Name: Valor fatura, dtype: float64"
      ]
     },
     "execution_count": 23,
     "metadata": {},
     "output_type": "execute_result"
    }
   ],
   "source": [
    "#Identifying Heavy Destinies\n",
    "valoresDestino = df.pivot_table(index='Destino', values='Valor fatura', aggfunc=np.sum).sort_values(ascending=False)\n",
    "valoresDestino"
   ]
  },
  {
   "cell_type": "code",
   "execution_count": 30,
   "metadata": {
    "collapsed": false
   },
   "outputs": [
    {
     "data": {
      "text/plain": [
       "Data serviço\n",
       "2017-12-01       56.00\n",
       "2017-11-01      827.78\n",
       "2017-10-01       32.34\n",
       "2017-09-01       46.70\n",
       "2017-08-02    27406.91\n",
       "2017-08-01        7.24\n",
       "2017-07-02      464.63\n",
       "2017-07-01        2.33\n",
       "2017-06-02      745.05\n",
       "2017-06-01        1.77\n",
       "2017-05-02      499.02\n",
       "2017-04-02      435.86\n",
       "2017-03-02     1245.90\n",
       "2017-03-01        1.77\n",
       "2017-02-02     1166.10\n",
       "2017-01-31     1293.42\n",
       "2017-01-30     1116.89\n",
       "2017-01-29      419.04\n",
       "2017-01-28      505.98\n",
       "2017-01-27     1101.27\n",
       "2017-01-26     1270.36\n",
       "2017-01-25     1299.32\n",
       "2017-01-24     1198.24\n",
       "2017-01-23     1069.37\n",
       "2017-01-22      232.10\n",
       "2017-01-21      376.45\n",
       "2017-01-20      942.30\n",
       "2017-01-19     1693.41\n",
       "2017-01-18     1144.53\n",
       "2017-01-17       95.46\n",
       "2017-01-16       46.90\n",
       "2017-01-15       63.55\n",
       "2017-01-14        9.49\n",
       "2017-01-13       13.50\n",
       "2017-01-02     1245.92\n",
       "2016-12-12        0.00\n",
       "2016-11-12        0.00\n",
       "2016-08-26      592.52\n",
       "2016-08-12        0.00\n",
       "2016-07-18      302.00\n",
       "Name: Valor fatura, dtype: float64"
      ]
     },
     "execution_count": 30,
     "metadata": {},
     "output_type": "execute_result"
    }
   ],
   "source": [
    "#Identifying cost per date\n",
    "valoresData = df.pivot_table(index='Data serviço', values='Valor fatura', aggfunc=np.sum).sort_index(ascending=False)\n",
    "valoresData"
   ]
  },
  {
   "cell_type": "code",
   "execution_count": 33,
   "metadata": {
    "collapsed": false
   },
   "outputs": [
    {
     "data": {
      "text/plain": [
       "Serviço da fatura\n",
       "CONSUMO COMPARTILHADO                       8530.31\n",
       "2GB - PACOTE INTERNET ILIMITADO             8399.53\n",
       "INT. REGIONAL                               6636.68\n",
       "GESTOR ONLINE - CONTROLE COMPLETO           5422.66\n",
       "INT. NACIONAL                               4326.91\n",
       "CLARO-OUTRAS OP.                            4231.16\n",
       "5GB - PACOTE INTERNET ILIMITADO             2555.26\n",
       "CLARO-CLARO                                 1660.03\n",
       "CLARO-FIXO                                  1416.67\n",
       "ASSINATURA PLANO SOB MEDIDA                 1099.96\n",
       "SERVICO TARIFA ZERO                         1098.80\n",
       "PACOTE 10000 SMS COMPARTILHADO               990.00\n",
       "COBRANCA APARELHO CELULAR LG K4              592.52\n",
       "A COBRAR                                     502.60\n",
       "TORPEDOS                                     303.18\n",
       "COBRANCA APARELHO CELULAR S.J105MINI         302.00\n",
       "PCT ROAMING INTERNACIONAL 100MB MUNDO        289.90\n",
       "INTERNET (MB)                                199.75\n",
       "PCT ROAMING INTERNACIONAL 50 MIN MUNDO       129.89\n",
       "PCT ROAMING INTERNACIONAL 100MB AMERICAS     129.89\n",
       "PACOTE INDIVIDUAL DE SMS - FRANQUIA           54.10\n",
       "PACOTE ADICIONAL INTERNET 2GB - 16/01/20      46.90\n",
       "PCT ROAMING INTERNACIONAL 25 MIN AMERICA      44.90\n",
       "FORA DA REDE CLARO                            33.84\n",
       "REC. EM VIAGEM                                23.33\n",
       "SECRETARIA CLARO                              12.18\n",
       "OUTROS SERVICOS TELECOM                       11.40\n",
       "TORPEDOS ENVIADOS NO EXTERIOR                  8.00\n",
       "INTERNACIONAL                                  1.07\n",
       "TARIFA ZERO                                    0.00\n",
       "CHAMADA 0800                                   0.00\n",
       "LIGACOES FEITAS NO EXTERIOR                    0.00\n",
       "INTERNET (COBRANCA DIARIA OU POR MB)           0.00\n",
       "PACOTE 1.000 SMS - INDIVIDUAL                  0.00\n",
       "LIGACOES RECEBIDAS NO EXTERIOR - OPERADO       0.00\n",
       "PACOTE INDIVIDUAL DE SMS                       0.00\n",
       "CREDITOS ANTERIORES                          -82.00\n",
       "Name: Valor fatura, dtype: float64"
      ]
     },
     "execution_count": 33,
     "metadata": {},
     "output_type": "execute_result"
    }
   ],
   "source": [
    "#Identifying Heavy Services\n",
    "servicosCusto = df.pivot_table(index='Serviço da fatura', values='Valor fatura', aggfunc=np.sum).sort_values(ascending=False)\n",
    "servicosCusto"
   ]
  },
  {
   "cell_type": "code",
   "execution_count": 95,
   "metadata": {
    "collapsed": false
   },
   "outputs": [
    {
     "data": {
      "text/plain": [
       "Dia\n",
       "QUA    3814.55\n",
       "QUI    3440.92\n",
       "SEX    3272.49\n",
       "TER    2861.83\n",
       "SEG    2697.70\n",
       "SAB    1243.46\n",
       "DOM     986.52\n",
       "Name: Valor fatura, dtype: float64"
      ]
     },
     "execution_count": 95,
     "metadata": {},
     "output_type": "execute_result"
    }
   ],
   "source": [
    "#Identifying weekly usage profile\n",
    "servicosUso = df\n",
    "servicosUso1 = servicosUso[(servicosUso.Categoria=='VC1') | (servicosUso.Categoria=='VC2') | (servicosUso.Categoria=='VC3') | (servicosUso.Categoria=='EVT')]\n",
    "servicosUso = servicosUso1.pivot_table(index='Dia', values='Valor fatura', aggfunc=np.sum).sort_values(ascending=False)\n",
    "servicosUso"
   ]
  },
  {
   "cell_type": "code",
   "execution_count": 101,
   "metadata": {
    "collapsed": false
   },
   "outputs": [
    {
     "data": {
      "text/plain": [
       "0      350\n",
       "1      240\n",
       "2      227\n",
       "3      207\n",
       "4      189\n",
       "5      265\n",
       "6      798\n",
       "7     1741\n",
       "8     2959\n",
       "9     3185\n",
       "10    3181\n",
       "11    3106\n",
       "12    2579\n",
       "13    2663\n",
       "14    3003\n",
       "15    3019\n",
       "16    2911\n",
       "17    2887\n",
       "18    2462\n",
       "19    2032\n",
       "20    1695\n",
       "21    1400\n",
       "22     981\n",
       "23     654\n",
       "Name: Valor fatura, dtype: int64"
      ]
     },
     "execution_count": 101,
     "metadata": {},
     "output_type": "execute_result"
    }
   ],
   "source": [
    "#Identifying time used\n",
    "horarioUso = servicosUso1.pivot_table(index='Hora serviço', values='Valor fatura', aggfunc=np.sum).sort_values(ascending=False)\n",
    "horarioUso.groupby(horarioUso.index.hour).count()"
   ]
  },
  {
   "cell_type": "code",
   "execution_count": 102,
   "metadata": {
    "collapsed": false
   },
   "outputs": [
    {
     "data": {
      "text/plain": [
       "0       75.72\n",
       "1       56.51\n",
       "2       60.65\n",
       "3       32.82\n",
       "4       47.09\n",
       "5      102.52\n",
       "6      186.02\n",
       "7      391.63\n",
       "8     1187.93\n",
       "9     1549.48\n",
       "10    1752.60\n",
       "11    1455.79\n",
       "12     931.82\n",
       "13     958.94\n",
       "14    1496.10\n",
       "15    1562.82\n",
       "16    1391.41\n",
       "17    1239.25\n",
       "18    1012.01\n",
       "19     875.04\n",
       "20     643.02\n",
       "21     657.14\n",
       "22     419.96\n",
       "23     231.20\n",
       "Name: Valor fatura, dtype: float64"
      ]
     },
     "execution_count": 102,
     "metadata": {},
     "output_type": "execute_result"
    }
   ],
   "source": [
    "#Identifying time used (COST)\n",
    "horarioUso = servicosUso1.pivot_table(index='Hora serviço', values='Valor fatura', aggfunc=np.sum).sort_values(ascending=False)\n",
    "horarioUso.groupby(horarioUso.index.hour).sum()"
   ]
  },
  {
   "cell_type": "code",
   "execution_count": 13,
   "metadata": {
    "collapsed": false
   },
   "outputs": [
    {
     "ename": "SyntaxError",
     "evalue": "invalid syntax (<ipython-input-13-0f6327673971>, line 2)",
     "output_type": "error",
     "traceback": [
      "\u001b[0;36m  File \u001b[0;32m\"<ipython-input-13-0f6327673971>\"\u001b[0;36m, line \u001b[0;32m2\u001b[0m\n\u001b[0;31m    Serviços que geram maior custo\u001b[0m\n\u001b[0m               ^\u001b[0m\n\u001b[0;31mSyntaxError\u001b[0m\u001b[0;31m:\u001b[0m invalid syntax\n"
     ]
    }
   ],
   "source": [
    "Gráficos\n",
    "Serviços que geram maior custo [OK]\n",
    "Horário mais utilizado por hora [OK]\n",
    "Custo por data [OK]\n",
    "Duração das chamadas\n",
    "Perfil Semanal da conta [OK]\n",
    "Origem com maior gasto [OK]\n",
    "Destino com maior custo [OK]\n",
    "DDD mais chamado"
   ]
  }
 ],
 "metadata": {
  "kernelspec": {
   "display_name": "Python 3",
   "language": "python",
   "name": "python3"
  },
  "language_info": {
   "codemirror_mode": {
    "name": "ipython",
    "version": 3
   },
   "file_extension": ".py",
   "mimetype": "text/x-python",
   "name": "python",
   "nbconvert_exporter": "python",
   "pygments_lexer": "ipython3",
   "version": "3.6.0"
  }
 },
 "nbformat": 4,
 "nbformat_minor": 2
}
