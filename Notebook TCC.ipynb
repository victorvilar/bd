{
 "cells": [
  {
   "cell_type": "code",
   "execution_count": 1,
   "metadata": {
    "collapsed": false
   },
   "outputs": [],
   "source": [
    "%matplotlib inline\n",
    "import pandas as pd\n",
    "import matplotlib.pyplot as plt\n",
    "from bokeh.io import output_notebook\n",
    "import numpy as np\n",
    "from bokeh.plotting import figure\n",
    "from bokeh.io import output_file, show"
   ]
  },
  {
   "cell_type": "code",
   "execution_count": 2,
   "metadata": {
    "collapsed": false
   },
   "outputs": [
    {
     "name": "stderr",
     "output_type": "stream",
     "text": [
      "d:\\Anaconda3\\lib\\site-packages\\IPython\\core\\interactiveshell.py:2717: DtypeWarning: Columns (4,36) have mixed types. Specify dtype option on import or set low_memory=False.\n",
      "  interactivity=interactivity, compiler=compiler, result=result)\n"
     ]
    }
   ],
   "source": [
    "#Reading dataset\n",
    "df = pd.read_csv('fev17.csv')"
   ]
  },
  {
   "cell_type": "code",
   "execution_count": 3,
   "metadata": {
    "collapsed": true
   },
   "outputs": [],
   "source": [
    "#Identifying all columns\n",
    "df.columns =['id', 'Tipo do produto', 'Finalidade', 'Origem', 'Destino', 'Data serviço', 'Dia', 'Hora serviço', 'Localidade destino', 'UF destino', 'CSP', 'Grupo horário', 'Categoria', 'Serviço da fatura', 'Serviço configurado', 'Chamada', 'Particular', 'Código UE', 'Nome UE', 'Quantidade', 'Qtde tarifada', 'Unidade', 'Valor fatura', 'Dia vencimento', 'Indicador comparação ok', 'Valor retarifado', 'Matricula', 'Fatura', 'Funcionário', 'Prestadora', 'Evento tarifário', 'Item glosado', 'Percentual de ICMS', 'Valor líquido calculado', 'Nota fiscal', 'CNPJ cliente', 'Motivo produto não cadastrado', 'Tipo de serviço', 'Coletor', 'Rota de entrada', 'Rota de saída', 'Número do contrato', 'Localidade de origem', 'UF de origem', 'Mês', 'Ano']"
   ]
  },
  {
   "cell_type": "code",
   "execution_count": 4,
   "metadata": {
    "collapsed": false
   },
   "outputs": [
    {
     "data": {
      "text/html": [
       "<div>\n",
       "<table border=\"1\" class=\"dataframe\">\n",
       "  <thead>\n",
       "    <tr style=\"text-align: right;\">\n",
       "      <th></th>\n",
       "      <th>id</th>\n",
       "      <th>Tipo do produto</th>\n",
       "      <th>Finalidade</th>\n",
       "      <th>Origem</th>\n",
       "      <th>Destino</th>\n",
       "      <th>Data serviço</th>\n",
       "      <th>Dia</th>\n",
       "      <th>Hora serviço</th>\n",
       "      <th>Localidade destino</th>\n",
       "      <th>UF destino</th>\n",
       "      <th>...</th>\n",
       "      <th>Motivo produto não cadastrado</th>\n",
       "      <th>Tipo de serviço</th>\n",
       "      <th>Coletor</th>\n",
       "      <th>Rota de entrada</th>\n",
       "      <th>Rota de saída</th>\n",
       "      <th>Número do contrato</th>\n",
       "      <th>Localidade de origem</th>\n",
       "      <th>UF de origem</th>\n",
       "      <th>Mês</th>\n",
       "      <th>Ano</th>\n",
       "    </tr>\n",
       "  </thead>\n",
       "  <tbody>\n",
       "    <tr>\n",
       "      <th>0</th>\n",
       "      <td>490491</td>\n",
       "      <td>CELULAR</td>\n",
       "      <td>NaN</td>\n",
       "      <td>81999741361</td>\n",
       "      <td>81999940229</td>\n",
       "      <td>01/02/2017</td>\n",
       "      <td>QUA</td>\n",
       "      <td>16:23:25</td>\n",
       "      <td>PERNAMBUCO (81)</td>\n",
       "      <td>PE</td>\n",
       "      <td>...</td>\n",
       "      <td>NaN</td>\n",
       "      <td>CELULAR</td>\n",
       "      <td>NaN</td>\n",
       "      <td>NaN</td>\n",
       "      <td>NaN</td>\n",
       "      <td>NaN</td>\n",
       "      <td>----VERIFICAR NO DICIONAR</td>\n",
       "      <td>NaN</td>\n",
       "      <td>2</td>\n",
       "      <td>2017</td>\n",
       "    </tr>\n",
       "    <tr>\n",
       "      <th>1</th>\n",
       "      <td>490539</td>\n",
       "      <td>CELULAR</td>\n",
       "      <td>NaN</td>\n",
       "      <td>81999940048</td>\n",
       "      <td>81999940041</td>\n",
       "      <td>16/01/2017</td>\n",
       "      <td>SEG</td>\n",
       "      <td>09:59:30</td>\n",
       "      <td>PERNAMBUCO (81)</td>\n",
       "      <td>PE</td>\n",
       "      <td>...</td>\n",
       "      <td>NaN</td>\n",
       "      <td>CELULAR</td>\n",
       "      <td>NaN</td>\n",
       "      <td>NaN</td>\n",
       "      <td>NaN</td>\n",
       "      <td>NaN</td>\n",
       "      <td>----VERIFICAR NO DICIONAR</td>\n",
       "      <td>NaN</td>\n",
       "      <td>2</td>\n",
       "      <td>2017</td>\n",
       "    </tr>\n",
       "  </tbody>\n",
       "</table>\n",
       "<p>2 rows × 46 columns</p>\n",
       "</div>"
      ],
      "text/plain": [
       "       id Tipo do produto  Finalidade       Origem      Destino Data serviço  \\\n",
       "0  490491         CELULAR         NaN  81999741361  81999940229   01/02/2017   \n",
       "1  490539         CELULAR         NaN  81999940048  81999940041   16/01/2017   \n",
       "\n",
       "   Dia Hora serviço Localidade destino UF destino  ...   \\\n",
       "0  QUA     16:23:25    PERNAMBUCO (81)         PE  ...    \n",
       "1  SEG     09:59:30    PERNAMBUCO (81)         PE  ...    \n",
       "\n",
       "   Motivo produto não cadastrado  Tipo de serviço Coletor Rota de entrada  \\\n",
       "0                            NaN          CELULAR     NaN             NaN   \n",
       "1                            NaN          CELULAR     NaN             NaN   \n",
       "\n",
       "  Rota de saída Número do contrato       Localidade de origem UF de origem  \\\n",
       "0           NaN                NaN  ----VERIFICAR NO DICIONAR          NaN   \n",
       "1           NaN                NaN  ----VERIFICAR NO DICIONAR          NaN   \n",
       "\n",
       "  Mês   Ano  \n",
       "0   2  2017  \n",
       "1   2  2017  \n",
       "\n",
       "[2 rows x 46 columns]"
      ]
     },
     "execution_count": 4,
     "metadata": {},
     "output_type": "execute_result"
    }
   ],
   "source": [
    "#Checking the first two lines\n",
    "df.head(2)"
   ]
  },
  {
   "cell_type": "code",
   "execution_count": 5,
   "metadata": {
    "collapsed": false
   },
   "outputs": [],
   "source": [
    "#Replacing the decimal mark to '.' and thousand mark to empty\n",
    "df['Valor fatura'] = df['Valor fatura'].str.replace('.','')\n",
    "df['Valor fatura'] = df['Valor fatura'].str.replace(',','.')\n",
    "df['Qtde tarifada'] = df['Qtde tarifada'].str.replace('.','')\n",
    "df['Qtde tarifada'] = df['Qtde tarifada'].str.replace(',','.')"
   ]
  },
  {
   "cell_type": "code",
   "execution_count": 6,
   "metadata": {
    "collapsed": false
   },
   "outputs": [
    {
     "data": {
      "text/plain": [
       "id                                 int64\n",
       "Tipo do produto                   object\n",
       "Finalidade                       float64\n",
       "Origem                             int64\n",
       "Destino                           object\n",
       "Data serviço                      object\n",
       "Dia                               object\n",
       "Hora serviço                      object\n",
       "Localidade destino                object\n",
       "UF destino                        object\n",
       "CSP                                int64\n",
       "Grupo horário                    float64\n",
       "Categoria                         object\n",
       "Serviço da fatura                 object\n",
       "Serviço configurado               object\n",
       "Chamada                           object\n",
       "Particular                        object\n",
       "Código UE                         object\n",
       "Nome UE                           object\n",
       "Quantidade                         int64\n",
       "Qtde tarifada                     object\n",
       "Unidade                           object\n",
       "Valor fatura                      object\n",
       "Dia vencimento                     int64\n",
       "Indicador comparação ok          float64\n",
       "Valor retarifado                  object\n",
       "Matricula                         object\n",
       "Fatura                            object\n",
       "Funcionário                       object\n",
       "Prestadora                        object\n",
       "Evento tarifário                  object\n",
       "Item glosado                     float64\n",
       "Percentual de ICMS                object\n",
       "Valor líquido calculado           object\n",
       "Nota fiscal                        int64\n",
       "CNPJ cliente                       int64\n",
       "Motivo produto não cadastrado     object\n",
       "Tipo de serviço                   object\n",
       "Coletor                          float64\n",
       "Rota de entrada                  float64\n",
       "Rota de saída                    float64\n",
       "Número do contrato               float64\n",
       "Localidade de origem              object\n",
       "UF de origem                     float64\n",
       "Mês                                int64\n",
       "Ano                                int64\n",
       "dtype: object"
      ]
     },
     "execution_count": 6,
     "metadata": {},
     "output_type": "execute_result"
    }
   ],
   "source": [
    "#Checking types\n",
    "df.dtypes"
   ]
  },
  {
   "cell_type": "code",
   "execution_count": 7,
   "metadata": {
    "collapsed": false
   },
   "outputs": [],
   "source": [
    "#Changing type of some attributes so I can work on it\n",
    "df.Origem = df.Origem.astype(object)\n",
    "df['Valor fatura'] = df['Valor fatura'].astype(float)\n",
    "df['Data serviço'] = pd.to_datetime(df['Data serviço'], format='%d/%m/%Y')\n",
    "df['Hora serviço'] = pd.to_datetime(df['Hora serviço'], format='%H:%M:%S')\n",
    "df['Qtde tarifada'] = df['Qtde tarifada'].astype(float)"
   ]
  },
  {
   "cell_type": "code",
   "execution_count": 8,
   "metadata": {
    "collapsed": false
   },
   "outputs": [
    {
     "data": {
      "text/plain": [
       "id                                        int64\n",
       "Tipo do produto                          object\n",
       "Finalidade                              float64\n",
       "Origem                                   object\n",
       "Destino                                  object\n",
       "Data serviço                     datetime64[ns]\n",
       "Dia                                      object\n",
       "Hora serviço                     datetime64[ns]\n",
       "Localidade destino                       object\n",
       "UF destino                               object\n",
       "CSP                                       int64\n",
       "Grupo horário                           float64\n",
       "Categoria                                object\n",
       "Serviço da fatura                        object\n",
       "Serviço configurado                      object\n",
       "Chamada                                  object\n",
       "Particular                               object\n",
       "Código UE                                object\n",
       "Nome UE                                  object\n",
       "Quantidade                                int64\n",
       "Qtde tarifada                           float64\n",
       "Unidade                                  object\n",
       "Valor fatura                            float64\n",
       "Dia vencimento                            int64\n",
       "Indicador comparação ok                 float64\n",
       "Valor retarifado                         object\n",
       "Matricula                                object\n",
       "Fatura                                   object\n",
       "Funcionário                              object\n",
       "Prestadora                               object\n",
       "Evento tarifário                         object\n",
       "Item glosado                            float64\n",
       "Percentual de ICMS                       object\n",
       "Valor líquido calculado                  object\n",
       "Nota fiscal                               int64\n",
       "CNPJ cliente                              int64\n",
       "Motivo produto não cadastrado            object\n",
       "Tipo de serviço                          object\n",
       "Coletor                                 float64\n",
       "Rota de entrada                         float64\n",
       "Rota de saída                           float64\n",
       "Número do contrato                      float64\n",
       "Localidade de origem                     object\n",
       "UF de origem                            float64\n",
       "Mês                                       int64\n",
       "Ano                                       int64\n",
       "dtype: object"
      ]
     },
     "execution_count": 8,
     "metadata": {},
     "output_type": "execute_result"
    }
   ],
   "source": [
    "#Checking types once again\n",
    "df.dtypes"
   ]
  },
  {
   "cell_type": "code",
   "execution_count": 9,
   "metadata": {
    "collapsed": false
   },
   "outputs": [
    {
     "data": {
      "text/plain": [
       "<matplotlib.axes._subplots.AxesSubplot at 0x24be2595908>"
      ]
     },
     "execution_count": 9,
     "metadata": {},
     "output_type": "execute_result"
    },
    {
     "data": {
      "image/png": "[encoded data removed]",
      "text/plain": [
       "<matplotlib.figure.Figure at 0x24be17fb668>"
      ]
     },
     "metadata": {},
     "output_type": "display_data"
    }
   ],
   "source": [
    "#Identifying Heavy Users\n",
    "valoresOrigem = df.pivot_table(index='Origem', values='Valor fatura', aggfunc=np.sum).sort_values(ascending=False).head(20)\n",
    "valoresOrigem.drop(valoresOrigem.index[0]).plot(kind='bar')\n"
   ]
  },
  {
   "cell_type": "code",
   "execution_count": 10,
   "metadata": {
    "collapsed": false
   },
   "outputs": [
    {
     "data": {
      "text/plain": [
       "<matplotlib.axes._subplots.AxesSubplot at 0x24be165dcf8>"
      ]
     },
     "execution_count": 10,
     "metadata": {},
     "output_type": "execute_result"
    },
    {
     "data": {
      "image/png": "[encoded data removed]",
      "text/plain": [
       "<matplotlib.figure.Figure at 0x24be22eb160>"
      ]
     },
     "metadata": {},
     "output_type": "display_data"
    }
   ],
   "source": [
    "#Identifying Heavy Destinies\n",
    "valoresDestino = df.pivot_table(index='Destino', values='Valor fatura', aggfunc=np.sum).sort_values(ascending=False).head(20)\n",
    "valoresDestino.plot(kind='bar')"
   ]
  },
  {
   "cell_type": "code",
   "execution_count": 11,
   "metadata": {
    "collapsed": false
   },
   "outputs": [
    {
     "data": {
      "text/plain": [
       "Data serviço\n",
       "2017-02-08    27406.91\n",
       "2017-02-07      464.63\n",
       "2017-02-06      745.05\n",
       "2017-02-05      499.02\n",
       "2017-02-04      435.86\n",
       "2017-02-03     1245.90\n",
       "2017-02-02     1166.10\n",
       "2017-02-01     1245.92\n",
       "2017-01-31     1293.42\n",
       "2017-01-30     1116.89\n",
       "2017-01-29      419.04\n",
       "2017-01-28      505.98\n",
       "2017-01-27     1101.27\n",
       "2017-01-26     1270.36\n",
       "2017-01-25     1299.32\n",
       "2017-01-24     1198.24\n",
       "2017-01-23     1069.37\n",
       "2017-01-22      232.10\n",
       "2017-01-21      376.45\n",
       "2017-01-20      942.30\n",
       "2017-01-19     1693.41\n",
       "2017-01-18     1144.53\n",
       "2017-01-17       95.46\n",
       "2017-01-16       46.90\n",
       "2017-01-15       63.55\n",
       "2017-01-14        9.49\n",
       "2017-01-13       13.50\n",
       "2017-01-12       56.00\n",
       "2017-01-11      827.78\n",
       "2017-01-10       32.34\n",
       "2017-01-09       46.70\n",
       "2017-01-08        7.24\n",
       "2017-01-07        2.33\n",
       "2017-01-06        1.77\n",
       "2017-01-03        1.77\n",
       "2016-12-12        0.00\n",
       "2016-12-11        0.00\n",
       "2016-12-08        0.00\n",
       "2016-08-26      592.52\n",
       "2016-07-18      302.00\n",
       "Name: Valor fatura, dtype: float64"
      ]
     },
     "execution_count": 11,
     "metadata": {},
     "output_type": "execute_result"
    }
   ],
   "source": [
    "#Identifying cost per date\n",
    "valoresData = df.pivot_table(index='Data serviço', values='Valor fatura', aggfunc=np.sum).sort_index(ascending=False)\n",
    "valoresData"
   ]
  },
  {
   "cell_type": "code",
   "execution_count": 12,
   "metadata": {
    "collapsed": false
   },
   "outputs": [
    {
     "data": {
      "text/plain": [
       "<matplotlib.axes._subplots.AxesSubplot at 0x24be372ef28>"
      ]
     },
     "execution_count": 12,
     "metadata": {},
     "output_type": "execute_result"
    },
    {
     "data": {
      "image/png": "[encoded data removed]",
      "text/plain": [
       "<matplotlib.figure.Figure at 0x24be36ddf28>"
      ]
     },
     "metadata": {},
     "output_type": "display_data"
    }
   ],
   "source": [
    "#Identifying Heavy Services\n",
    "servicosCusto = df.pivot_table(index='Serviço da fatura', values='Valor fatura', aggfunc=np.sum).sort_values(ascending=False).head(10)\n",
    "servicosCusto.plot(kind='bar')"
   ]
  },
  {
   "cell_type": "code",
   "execution_count": 13,
   "metadata": {
    "collapsed": false
   },
   "outputs": [
    {
     "data": {
      "text/plain": [
       "<matplotlib.axes._subplots.AxesSubplot at 0x24be378e080>"
      ]
     },
     "execution_count": 13,
     "metadata": {},
     "output_type": "execute_result"
    },
    {
     "data": {
      "image/png": "[encoded data removed]",
      "text/plain": [
       "<matplotlib.figure.Figure at 0x24be3763eb8>"
      ]
     },
     "metadata": {},
     "output_type": "display_data"
    }
   ],
   "source": [
    "#Identifying weekly usage profile\n",
    "servicosUso = df\n",
    "servicosUso1 = servicosUso[(servicosUso.Categoria=='VC1') | (servicosUso.Categoria=='VC2') | (servicosUso.Categoria=='VC3') | (servicosUso.Categoria=='EVT')]\n",
    "servicosUso2 = servicosUso1.pivot_table(index='Dia', values='Valor fatura', aggfunc=np.sum).sort_values(ascending=False)\n",
    "servicosUso = servicosUso2.loc[['DOM','SEG','TER','QUA','QUI','SEX','SAB']]\n",
    "servicosUso.plot(kind='bar')"
   ]
  },
  {
   "cell_type": "code",
   "execution_count": 14,
   "metadata": {
    "collapsed": false
   },
   "outputs": [
    {
     "data": {
      "text/plain": [
       "<matplotlib.axes._subplots.AxesSubplot at 0x24be3866470>"
      ]
     },
     "execution_count": 14,
     "metadata": {},
     "output_type": "execute_result"
    },
    {
     "data": {
      "image/png": "[encoded data removed]",
      "text/plain": [
       "<matplotlib.figure.Figure at 0x24be3715390>"
      ]
     },
     "metadata": {},
     "output_type": "display_data"
    }
   ],
   "source": [
    "#Identifying time used\n",
    "horarioUso = servicosUso1.pivot_table(index='Hora serviço', values='Valor fatura', aggfunc=np.sum).sort_values(ascending=False)\n",
    "horarioUso.groupby(horarioUso.index.hour).agg(['sum','count']).plot(kind='bar')\n",
    "\n",
    "#horarioUso.groupby(horarioUso.index.hour).sum()\n",
    "#horarioUso.groupby(horarioUso.index.hour).count()"
   ]
  },
  {
   "cell_type": "code",
   "execution_count": 15,
   "metadata": {
    "collapsed": false
   },
   "outputs": [
    {
     "data": {
      "text/plain": [
       "<matplotlib.axes._subplots.AxesSubplot at 0x24be890bd68>"
      ]
     },
     "execution_count": 15,
     "metadata": {},
     "output_type": "execute_result"
    },
    {
     "data": {
      "image/png": "[encoded data removed]",
      "text/plain": [
       "<matplotlib.figure.Figure at 0x24be890b550>"
      ]
     },
     "metadata": {},
     "output_type": "display_data"
    }
   ],
   "source": [
    "#Identifying most DDD called\n",
    "ddd = df['Destino'].str[:2]\n",
    "ddd.value_counts().head(5).plot(kind='bar')"
   ]
  },
  {
   "cell_type": "code",
   "execution_count": 16,
   "metadata": {
    "collapsed": false
   },
   "outputs": [
    {
     "data": {
      "text/plain": [
       "<matplotlib.axes._subplots.AxesSubplot at 0x24be89102e8>"
      ]
     },
     "execution_count": 16,
     "metadata": {},
     "output_type": "execute_result"
    },
    {
     "data": {
      "image/png": "[encoded data removed]",
      "text/plain": [
       "<matplotlib.figure.Figure at 0x24be895f390>"
      ]
     },
     "metadata": {},
     "output_type": "display_data"
    }
   ],
   "source": [
    "#Identifying hours\n",
    "hora = servicosUso1[['Hora serviço', 'Valor fatura']]\n",
    "hora = hora.set_index(['Hora serviço'])\n",
    "hora = hora.groupby(pd.TimeGrouper(freq='60Min')).agg(['sum','count'])\n",
    "\n",
    "hora.plot(kind='bar')"
   ]
  },
  {
   "cell_type": "code",
   "execution_count": 17,
   "metadata": {
    "collapsed": false
   },
   "outputs": [
    {
     "data": {
      "text/plain": [
       "<matplotlib.axes._subplots.AxesSubplot at 0x24be987dc50>"
      ]
     },
     "execution_count": 17,
     "metadata": {},
     "output_type": "execute_result"
    },
    {
     "data": {
      "image/png": "[encoded data removed]",
      "text/plain": [
       "<matplotlib.figure.Figure at 0x24be9892668>"
      ]
     },
     "metadata": {},
     "output_type": "display_data"
    }
   ],
   "source": [
    "#Identifying hours\n",
    "duracao = servicosUso1[['Qtde tarifada', 'Valor fatura']]\n",
    "duracao = duracao.rename(columns={'Qtde tarifada': 'QtdeTarifada'})\n",
    "#duracao = duracao.set_index('Qtde tarifada')\n",
    "#ranges = [0,10,20,30,40,50,60,70,80,90,100]\n",
    "ranges = np.arange(0,160,10)\n",
    "\n",
    "duracao = duracao.groupby(pd.cut(duracao.QtdeTarifada, ranges)).agg({'QtdeTarifada':sum, 'Valor fatura':'count'}).fillna(0)\n",
    "duracao.plot(kind='bar')"
   ]
  },
  {
   "cell_type": "code",
   "execution_count": 18,
   "metadata": {
    "collapsed": false
   },
   "outputs": [
    {
     "ename": "SyntaxError",
     "evalue": "invalid syntax (<ipython-input-18-0a77e079d42d>, line 2)",
     "output_type": "error",
     "traceback": [
      "\u001b[0;36m  File \u001b[0;32m\"<ipython-input-18-0a77e079d42d>\"\u001b[0;36m, line \u001b[0;32m2\u001b[0m\n\u001b[0;31m    Serviços que geram maior custo [OK]\u001b[0m\n\u001b[0m               ^\u001b[0m\n\u001b[0;31mSyntaxError\u001b[0m\u001b[0;31m:\u001b[0m invalid syntax\n"
     ]
    }
   ],
   "source": [
    "Gráficos\n",
    "Serviços que geram maior custo [OK]\n",
    "Horário mais utilizado por hora [OK]\n",
    "Custo por data [OK]\n",
    "Duração das chamadas [OK]\n",
    "Perfil Semanal da conta [OK]\n",
    "Origem com maior gasto [OK]\n",
    "Destino com maior custo [OK]\n",
    "DDD mais chamado [OK]"
   ]
  }
 ],
 "metadata": {
  "kernelspec": {
   "display_name": "Python 3",
   "language": "python",
   "name": "python3"
  },
  "language_info": {
   "codemirror_mode": {
    "name": "ipython",
    "version": 3
   },
   "file_extension": ".py",
   "mimetype": "text/x-python",
   "name": "python",
   "nbconvert_exporter": "python",
   "pygments_lexer": "ipython3",
   "version": "3.6.0"
  }
 },
 "nbformat": 4,
 "nbformat_minor": 2
}
